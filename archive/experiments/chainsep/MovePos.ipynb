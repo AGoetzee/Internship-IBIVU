{
 "cells": [
  {
   "cell_type": "code",
   "execution_count": 62,
   "id": "bd62470d-d471-4ed5-ae9d-5d5df282136d",
   "metadata": {
    "pycharm": {
     "name": "#%%\n"
    }
   },
   "outputs": [],
   "source": [
    "from Bio.PDB import *\n",
    "import numpy as np"
   ]
  },
  {
   "cell_type": "code",
   "execution_count": 63,
   "id": "bd420d0f-9c40-4163-8153-f938e6ef4b4f",
   "metadata": {
    "pycharm": {
     "name": "#%%\n"
    }
   },
   "outputs": [],
   "source": [
    "parser = PDBParser()\n",
    "structure = parser.get_structure(\"half\", \"C:\\\\Users\\\\arthu\\\\Desktop\\\\simlab\\\\chainsep\\\\halfpdb.pdb\")"
   ]
  },
  {
   "cell_type": "code",
   "execution_count": 64,
   "id": "d1c17522-38cb-4f6c-93ef-31bce718e34c",
   "metadata": {
    "pycharm": {
     "name": "#%%\n"
    }
   },
   "outputs": [],
   "source": [
    "chainA = structure[0]['A']\n",
    "for res in chainA:\n",
    "    for atom in res:\n",
    "        newcoord = atom.get_coord()\n",
    "        newcoord[2] = newcoord[2] + 50\n",
    "        atom.set_coord(newcoord)"
   ]
  },
  {
   "cell_type": "code",
   "execution_count": 65,
   "id": "96a66995-6955-499e-9345-5b3a051f5a39",
   "metadata": {
    "pycharm": {
     "name": "#%%\n"
    }
   },
   "outputs": [],
   "source": [
    "io = PDBIO()\n",
    "io.set_structure(structure)\n",
    "io.save(\"chainsep.pdb\")"
   ]
  }
 ],
 "metadata": {
  "kernelspec": {
   "display_name": "Python 3 (ipykernel)",
   "language": "python",
   "name": "python3"
  },
  "language_info": {
   "codemirror_mode": {
    "name": "ipython",
    "version": 3
   },
   "file_extension": ".py",
   "mimetype": "text/x-python",
   "name": "python",
   "nbconvert_exporter": "python",
   "pygments_lexer": "ipython3",
   "version": "3.9.7"
  }
 },
 "nbformat": 4,
 "nbformat_minor": 5
}