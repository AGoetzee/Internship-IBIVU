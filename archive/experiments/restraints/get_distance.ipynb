{
 "cells": [
  {
   "cell_type": "code",
   "execution_count": 4,
   "metadata": {
    "pycharm": {
     "name": "#%%\n"
    }
   },
   "outputs": [
    {
     "name": "stdout",
     "output_type": "stream",
     "text": [
      "CHAIN RESNUM ATOMNUM\n",
      "I\t 101\t 1878\n",
      "I\t 102\t 1895\n",
      "I\t 103\t 1906\n",
      "I\t 104\t 1923\n",
      "I\t 105\t 1930\n",
      "I\t 106\t 1944\n",
      "I\t 107\t 1964\n",
      "I\t 108\t 1978\n",
      "I\t 109\t 1989\n",
      "I\t 110\t 2001\n",
      "I\t 111\t 2022\n",
      "I\t 112\t 2033\n",
      "I\t 113\t 2055\n",
      "I\t 114\t 2076\n",
      "I\t 115\t 2095\n",
      "I\t 116\t 2107\n",
      "I\t 117\t 2118\n",
      "I\t 118\t 2142\n",
      "I\t 119\t 2166\n",
      "I\t 120\t 2176\n",
      "I\t 121\t 2193\n",
      "I\t 122\t 2205\n",
      "I\t 123\t 2225\n",
      "I\t 124\t 2241\n",
      "I\t 125\t 2258\n",
      "I\t 126\t 2282\n",
      "I\t 127\t 2301\n",
      "I\t 128\t 2318\n",
      "I\t 129\t 2332\n",
      "O\t 101\t 3285\n",
      "O\t 102\t 3302\n",
      "O\t 103\t 3313\n",
      "O\t 104\t 3330\n",
      "O\t 105\t 3337\n",
      "O\t 106\t 3351\n",
      "O\t 107\t 3371\n",
      "O\t 108\t 3385\n",
      "O\t 109\t 3396\n",
      "O\t 110\t 3408\n",
      "O\t 111\t 3429\n",
      "O\t 112\t 3440\n",
      "O\t 113\t 3462\n",
      "O\t 114\t 3483\n",
      "O\t 115\t 3502\n",
      "O\t 116\t 3514\n",
      "O\t 117\t 3525\n",
      "O\t 118\t 3549\n",
      "O\t 119\t 3573\n",
      "O\t 120\t 3583\n",
      "O\t 121\t 3600\n",
      "O\t 122\t 3612\n",
      "O\t 123\t 3632\n",
      "O\t 124\t 3648\n",
      "O\t 125\t 3665\n",
      "O\t 126\t 3689\n",
      "O\t 127\t 3708\n",
      "O\t 128\t 3725\n",
      "O\t 129\t 3739\n"
     ]
    }
   ],
   "source": [
    "with open('..\\\\rmsdcv\\\\chainsep.pdb','r') as f:\n",
    "    print('CHAIN RESNUM ATOMNUM')\n",
    "    chain_i,chain_o = [],[]\n",
    "    for i,line in enumerate(f.readlines()[:-2]):\n",
    "        atom = line.split()\n",
    "        if (atom[4] == 'O' or atom[4] == 'I') and atom[2] == 'CA':\n",
    "            print(f'{atom[4]}\\t {atom[5]}\\t {i+1}')\n",
    "            if atom[4] == 'O':\n",
    "                chain_o.append(i+1)\n",
    "            else:\n",
    "                chain_i.append(i+1)\n",
    "    f.close()"
   ]
  },
  {
   "cell_type": "code",
   "execution_count": 3,
   "metadata": {
    "pycharm": {
     "name": "#%%\n"
    }
   },
   "outputs": [],
   "source": [
    "with open('avg\\\\average.dat','w') as f:\n",
    "    f.write('MOLINFO MOLTYPE=protein STRUCTURE=halfpdb.pdb\\n\\n')\n",
    "    for i,(num_a,num_i) in enumerate(zip(chain_i,chain_o)):\n",
    "        f.write(f'd{i+1}: DISTANCE ATOMS={num_a},{num_i} NOPBC\\n')\n",
    "    f.write(f'PRINT ARG=* STRIDE=100 FILE=avg/COLVAR_AVG')\n",
    "    f.close()"
   ]
  }
 ],
 "metadata": {
  "interpreter": {
   "hash": "e01015a1f226762d6e837830ce8242f2b2dee0f4257f0b3304cf0f6369245bc5"
  },
  "kernelspec": {
   "display_name": "Python 3.10.4 64-bit (windows store)",
   "language": "python",
   "name": "python3"
  },
  "language_info": {
   "codemirror_mode": {
    "name": "ipython",
    "version": 3
   },
   "file_extension": ".py",
   "mimetype": "text/x-python",
   "name": "python",
   "nbconvert_exporter": "python",
   "pygments_lexer": "ipython3",
   "version": "3.9.7"
  },
  "orig_nbformat": 4
 },
 "nbformat": 4,
 "nbformat_minor": 2
}