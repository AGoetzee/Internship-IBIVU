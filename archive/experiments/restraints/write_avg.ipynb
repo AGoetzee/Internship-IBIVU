{
 "cells": [
  {
   "cell_type": "code",
   "execution_count": 1,
   "metadata": {},
   "outputs": [],
   "source": [
    "import numpy as np\n",
    "import matplotlib.pyplot as plt"
   ]
  },
  {
   "cell_type": "code",
   "execution_count": 4,
   "metadata": {},
   "outputs": [
    {
     "data": {
      "image/png": "[encoded data removed]",
      "text/plain": [
       "<Figure size 432x288 with 1 Axes>"
      ]
     },
     "metadata": {
      "needs_background": "light"
     },
     "output_type": "display_data"
    }
   ],
   "source": [
    "data = np.loadtxt('avg\\\\COLVAR_AVG').T\n",
    "data = data[1:]\n",
    "# data = np.loadtxt(test).T\n",
    "\n",
    "avg = data.mean(axis=1)\n",
    "sd = data.std(axis=1)\n",
    "cs = ['d'+str(i+1) for i in range(29)]\n",
    "\n",
    "plt.bar(cs,avg)\n",
    "plt.errorbar(cs, avg, yerr=sd, fmt=\"o\", color=\"r\")\n",
    "plt.xlabel('C-alpha atom')\n",
    "plt.ylabel('Average distance (nm)')\n",
    "# plt.show()\n",
    "plt.savefig('avg_calpha_dist.png')"
   ]
  },
  {
   "cell_type": "code",
   "execution_count": 5,
   "metadata": {},
   "outputs": [
    {
     "name": "stdout",
     "output_type": "stream",
     "text": [
      "restraint: RESTRAINT ARG=d1,d2,d3,d4,d5,d6,d7,d8,d9,d10,d11,d12,d13,d14,d15,d16,d17,d18,d19,d20,d21,d22,d23,d24,d25,d26,d27,d28,d29 AT=9.25,3.32,3.26,2.94,2.65,2.85,2.88,2.79,2.81,3.13,2.83,2.94,3.06,3.03,2.81,3.03,2.84,3.1,2.86,2.9,2.86,2.91,2.91,2.97,2.88,2.52,2.93,2.64,2.9, KAPPA=150,150,150,150,150,150,150,150,150,150,150,150,150,150,150,150,150,150,150,150,150,150,150,150,150,150,150,150,150\n"
     ]
    }
   ],
   "source": [
    "kappa = ['150' for i in range(len(cs))]\n",
    "print(f'restraint: RESTRAINT ARG={\",\".join(cs)} AT={\",\".join(map(str,list(avg.round(2))))}, KAPPA={\",\".join(kappa)}')"
   ]
  },
  {
   "cell_type": "code",
   "execution_count": 15,
   "metadata": {},
   "outputs": [
    {
     "data": {
      "text/plain": [
       "['9.27',\n",
       " '3.25',\n",
       " '3.22',\n",
       " '2.92',\n",
       " '2.62',\n",
       " '2.84',\n",
       " '2.93',\n",
       " '2.79',\n",
       " '2.82',\n",
       " '3.15',\n",
       " '2.83',\n",
       " '2.94',\n",
       " '3.02',\n",
       " '3.03',\n",
       " '2.82',\n",
       " '3.03',\n",
       " '2.83',\n",
       " '3.09',\n",
       " '2.89',\n",
       " '2.87',\n",
       " '2.86',\n",
       " '2.93',\n",
       " '2.95',\n",
       " '2.97',\n",
       " '2.9',\n",
       " '2.53',\n",
       " '2.9',\n",
       " '2.67',\n",
       " '2.99']"
      ]
     },
     "execution_count": 15,
     "metadata": {},
     "output_type": "execute_result"
    }
   ],
   "source": [
    "map(str,list(avg.round(2)))"
   ]
  },
  {
   "cell_type": "code",
   "execution_count": null,
   "metadata": {},
   "outputs": [],
   "source": []
  }
 ],
 "metadata": {
  "interpreter": {
   "hash": "e01015a1f226762d6e837830ce8242f2b2dee0f4257f0b3304cf0f6369245bc5"
  },
  "kernelspec": {
   "display_name": "Python 3.10.4 64-bit (windows store)",
   "language": "python",
   "name": "python3"
  },
  "language_info": {
   "codemirror_mode": {
    "name": "ipython",
    "version": 3
   },
   "file_extension": ".py",
   "mimetype": "text/x-python",
   "name": "python",
   "nbconvert_exporter": "python",
   "pygments_lexer": "ipython3",
   "version": "3.10.4"
  },
  "orig_nbformat": 4
 },
 "nbformat": 4,
 "nbformat_minor": 2
}
